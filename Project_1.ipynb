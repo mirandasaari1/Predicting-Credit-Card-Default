{
  "nbformat": 4,
  "nbformat_minor": 0,
  "metadata": {
    "colab": {
      "name": "Project 1",
      "version": "0.3.2",
      "provenance": [],
      "collapsed_sections": [
        "p51tW7-gdjb5",
        "i2cUyH0Xa-0w",
        "qUK5Lb0bb76m",
        "HeVNWMbiMpcF",
        "gb0Cr8KNN3Df",
        "q1ja3i-nnvgs"
      ],
      "toc_visible": true,
      "include_colab_link": true
    },
    "kernelspec": {
      "name": "python3",
      "display_name": "Python 3"
    }
  },
  "cells": [
    {
      "cell_type": "markdown",
      "metadata": {
        "id": "view-in-github",
        "colab_type": "text"
      },
      "source": [
        "<a href=\"https://colab.research.google.com/github/mirandasaari1/Predicting-Credit-Card-Default/blob/master/Project_1.ipynb\" target=\"_parent\"><img src=\"https://colab.research.google.com/assets/colab-badge.svg\" alt=\"Open In Colab\"/></a>"
      ]
    },
    {
      "metadata": {
        "id": "pz0nk92BYtjH",
        "colab_type": "text"
      },
      "cell_type": "markdown",
      "source": [
        "# Predicting Credit Card Default Using Various Classification Models and Ensemble Learning"
      ]
    },
    {
      "metadata": {
        "id": "Tqqvvk39Yw5R",
        "colab_type": "text"
      },
      "cell_type": "markdown",
      "source": [
        "Alexandria Davis, Miranda Saari, and Rosa Garza"
      ]
    },
    {
      "metadata": {
        "id": "7x5rQ_OIZSd8",
        "colab_type": "text"
      },
      "cell_type": "markdown",
      "source": [
        "# Introduction\n"
      ]
    },
    {
      "metadata": {
        "id": "mtm74DJbbIVl",
        "colab_type": "text"
      },
      "cell_type": "markdown",
      "source": [
        "In this report we will be exploring \"The Default of Credit Card Clients\" to try and predict the probability someone will default on their credit card. The dataset used for this report is from https://archive.ics.uci.edu/ml/datasets/default+of+credit+card+clients. The set contains 30,000 instances with 23 attributes to show credit card default from April 2005 to September 2005, for our report we will be working with 25,000 instances. These attributes are: limit, sex, education, marriage, age, payment history by month, amount on bill statement, amount of previous payment, and amount paid. Some of the values within the attributes are not properly deescribed. We have found an email from the creator of the dataset which properly describes the values at https://www.kaggle.com/uciml/default-of-credit-card-clients-dataset/discussion/34608. Gender is represented by 1 for male and 2 for female. Education is represented by 1 for graduate school, 2 for university, 3 for highschool and 4 for others. Marital status is represented by 1 for married, 2 for single, 3 for divorced, and 4 for others. Repayment status is represented by integer -2-9 to represent delay by month and is more explicitly described below. Bill statement and previous payment are represented by a variable for each month. "
      ]
    },
    {
      "metadata": {
        "id": "k_LvHBJmcrtA",
        "colab_type": "text"
      },
      "cell_type": "markdown",
      "source": [
        "### Libraries"
      ]
    },
    {
      "metadata": {
        "id": "W5w2ESEocweT",
        "colab_type": "code",
        "colab": {}
      },
      "cell_type": "code",
      "source": [
        "import numpy as np\n",
        "import pandas as pd\n",
        "import seaborn as sns\n",
        "import matplotlib.pyplot as plt\n",
        "from sklearn.pipeline import Pipeline, FeatureUnion\n",
        "from sklearn.preprocessing import OneHotEncoder,LabelBinarizer,StandardScaler, Imputer, LabelEncoder\n",
        "from sklearn.base import BaseEstimator, TransformerMixin\n",
        "from sklearn.svm import LinearSVC\n",
        "from sklearn.linear_model import LogisticRegression\n",
        "from sklearn.tree import DecisionTreeClassifier\n",
        "from sklearn.model_selection import train_test_split, cross_val_score, GridSearchCV, cross_val_predict\n",
        "from sklearn.metrics import classification_report, accuracy_score,confusion_matrix,precision_score, recall_score, roc_curve, roc_auc_score\n",
        "from sklearn.decomposition import PCA\n",
        "from sklearn.manifold import LocallyLinearEmbedding\n",
        "from sklearn.ensemble import BaggingClassifier, RandomForestClassifier, VotingClassifier"
      ],
      "execution_count": 0,
      "outputs": []
    },
    {
      "metadata": {
        "id": "p51tW7-gdjb5",
        "colab_type": "text"
      },
      "cell_type": "markdown",
      "source": [
        "### Initial Data Load"
      ]
    },
    {
      "metadata": {
        "id": "QJprlfU7doS0",
        "colab_type": "code",
        "colab": {
          "base_uri": "https://localhost:8080/",
          "height": 124
        },
        "outputId": "7b7f930b-aae4-46ac-ad72-1cfd99f43746"
      },
      "cell_type": "code",
      "source": [
        "from google.colab import drive\n",
        "drive.mount('/content/gdrive')"
      ],
      "execution_count": 2,
      "outputs": [
        {
          "output_type": "stream",
          "text": [
            "Go to this URL in a browser: https://accounts.google.com/o/oauth2/auth?client_id=947318989803-6bn6qk8qdgf4n4g3pfee6491hc0brc4i.apps.googleusercontent.com&redirect_uri=urn%3Aietf%3Awg%3Aoauth%3A2.0%3Aoob&scope=email%20https%3A%2F%2Fwww.googleapis.com%2Fauth%2Fdocs.test%20https%3A%2F%2Fwww.googleapis.com%2Fauth%2Fdrive%20https%3A%2F%2Fwww.googleapis.com%2Fauth%2Fdrive.photos.readonly%20https%3A%2F%2Fwww.googleapis.com%2Fauth%2Fpeopleapi.readonly&response_type=code\n",
            "\n",
            "Enter your authorization code:\n",
            "··········\n",
            "Mounted at /content/gdrive\n"
          ],
          "name": "stdout"
        }
      ]
    },
    {
      "metadata": {
        "id": "-lJTTvbaNQ45",
        "colab_type": "code",
        "colab": {}
      },
      "cell_type": "code",
      "source": [
        "input_file = \"/content/gdrive/My Drive/CST463/project1/default_cc_train.csv\"\n",
        "dat = pd.read_csv(input_file)"
      ],
      "execution_count": 0,
      "outputs": []
    },
    {
      "metadata": {
        "id": "7sOuIP9aZWtn",
        "colab_type": "text"
      },
      "cell_type": "markdown",
      "source": [
        "# Exploration"
      ]
    },
    {
      "metadata": {
        "id": "gZqdVhn0SKaq",
        "colab_type": "text"
      },
      "cell_type": "markdown",
      "source": [
        "Our dataset contains 25,000 observations of 25 raw features."
      ]
    },
    {
      "metadata": {
        "id": "Jj_5j67lnIao",
        "colab_type": "code",
        "colab": {
          "base_uri": "https://localhost:8080/",
          "height": 34
        },
        "outputId": "10359853-6953-45d9-e214-d489e825693e"
      },
      "cell_type": "code",
      "source": [
        "#dat.info\n",
        "dat.shape"
      ],
      "execution_count": 4,
      "outputs": [
        {
          "output_type": "execute_result",
          "data": {
            "text/plain": [
              "(25000, 25)"
            ]
          },
          "metadata": {
            "tags": []
          },
          "execution_count": 4
        }
      ]
    },
    {
      "metadata": {
        "id": "wCd2oQpai9si",
        "colab_type": "text"
      },
      "cell_type": "markdown",
      "source": [
        "#### Individual Feature Exploration"
      ]
    },
    {
      "metadata": {
        "id": "km-ewGViJiMR",
        "colab_type": "text"
      },
      "cell_type": "markdown",
      "source": [
        "Of these 25,000, a little over 5,000 of the observations in the data set defaulted. This makes up aproximately 20% of our overall data."
      ]
    },
    {
      "metadata": {
        "id": "cALCvulQJif_",
        "colab_type": "code",
        "colab": {
          "base_uri": "https://localhost:8080/",
          "height": 375
        },
        "outputId": "f6c431f4-5af5-4a89-8eba-5c073bdbfefb"
      },
      "cell_type": "code",
      "source": [
        "pd.value_counts(dat['default.payment.next.month']).plot.bar()\n",
        "plt.title(\"Credit Card Default Counts\")"
      ],
      "execution_count": 5,
      "outputs": [
        {
          "output_type": "execute_result",
          "data": {
            "text/plain": [
              "Text(0.5,1,'Credit Card Default Counts')"
            ]
          },
          "metadata": {
            "tags": []
          },
          "execution_count": 5
        },
        {
          "output_type": "display_data",
          "data": {
            "image/png": "[encoded data removed]",
            "text/plain": [
              "<matplotlib.figure.Figure at 0x7f36359e2898>"
            ]
          },
          "metadata": {
            "tags": []
          }
        }
      ]
    },
    {
      "metadata": {
        "id": "yfYkD-mgSPqm",
        "colab_type": "text"
      },
      "cell_type": "markdown",
      "source": [
        "The 5 most common credit card limits. Besides being in the ten thousands, there was not much of a patern. There were also no cards without limits, or that had an unlisted limit."
      ]
    },
    {
      "metadata": {
        "id": "FCeF_kSyQIFE",
        "colab_type": "code",
        "colab": {
          "base_uri": "https://localhost:8080/",
          "height": 139
        },
        "outputId": "47c5ab88-c58c-462a-b6fc-7633dd140d8e"
      },
      "cell_type": "code",
      "source": [
        "print(dat['LIMIT_BAL'].value_counts().nlargest(5))\n",
        "print('\\nNANs found:', sum(dat['LIMIT_BAL']==0) )"
      ],
      "execution_count": 12,
      "outputs": [
        {
          "output_type": "stream",
          "text": [
            "50000     2790\n",
            "20000     1632\n",
            "30000     1369\n",
            "80000     1292\n",
            "200000    1264\n",
            "Name: LIMIT_BAL, dtype: int64\n",
            "NANs found: 0\n"
          ],
          "name": "stdout"
        }
      ]
    },
    {
      "metadata": {
        "id": "0p0L0FfvSyZp",
        "colab_type": "text"
      },
      "cell_type": "markdown",
      "source": [
        "The dataset also had almost twice as many females listed as males, with none of the listed individuals having an unlisted sex.\n"
      ]
    },
    {
      "metadata": {
        "id": "VBEulgqbQWSk",
        "colab_type": "code",
        "colab": {
          "base_uri": "https://localhost:8080/",
          "height": 104
        },
        "outputId": "9448d538-f8e4-443c-ebe7-a50c5fa7589d"
      },
      "cell_type": "code",
      "source": [
        "print (\"Gender: \")\n",
        "print(dat['SEX'].value_counts()) \n",
        "print('NANs found: ', sum(dat['SEX']==0))"
      ],
      "execution_count": 13,
      "outputs": [
        {
          "output_type": "stream",
          "text": [
            "Gender: \n",
            "2    15109\n",
            "1     9891\n",
            "Name: SEX, dtype: int64\n"
          ],
          "name": "stdout"
        },
        {
          "output_type": "execute_result",
          "data": {
            "text/plain": [
              "0"
            ]
          },
          "metadata": {
            "tags": []
          },
          "execution_count": 13
        }
      ]
    },
    {
      "metadata": {
        "id": "6vcFXJcrTBQf",
        "colab_type": "text"
      },
      "cell_type": "markdown",
      "source": [
        "Most of the population has a university education and the majority has at least a high school education, however two of the values - 5 and 6 are not defined.\n",
        "There are also 11 marked as \"unknown\" and 106 \"others\". The meaning behind these labels is not currently known."
      ]
    },
    {
      "metadata": {
        "id": "Ef5UeHFTQcrD",
        "colab_type": "code",
        "colab": {
          "base_uri": "https://localhost:8080/",
          "height": 175
        },
        "outputId": "fef5f478-b93e-4154-a4b3-101cc44cd288"
      },
      "cell_type": "code",
      "source": [
        "print(dat['EDUCATION'].value_counts())\n",
        "print('NANs found:', sum(dat['EDUCATION']==0) )"
      ],
      "execution_count": 8,
      "outputs": [
        {
          "output_type": "stream",
          "text": [
            "2    11682\n",
            "1     8813\n",
            "3     4115\n",
            "5      236\n",
            "4      106\n",
            "6       37\n",
            "0       11\n",
            "Name: EDUCATION, dtype: int64\n"
          ],
          "name": "stdout"
        },
        {
          "output_type": "execute_result",
          "data": {
            "text/plain": [
              "11"
            ]
          },
          "metadata": {
            "tags": []
          },
          "execution_count": 8
        }
      ]
    },
    {
      "metadata": {
        "id": "noNQOa-bTYCo",
        "colab_type": "text"
      },
      "cell_type": "markdown",
      "source": [
        "There is a pretty even dispersement of single and married in this data's population. We also have individuals who are divorced and very few that are under the category of \"Others\"."
      ]
    },
    {
      "metadata": {
        "id": "Gqadl-RcQkhi",
        "colab_type": "code",
        "colab": {
          "base_uri": "https://localhost:8080/",
          "height": 123
        },
        "outputId": "91c20511-e637-48ed-bf39-b6edd1930ae1"
      },
      "cell_type": "code",
      "source": [
        "print(dat['MARRIAGE'].value_counts())\n",
        "print('NANs found:', sum(dat['MARRIAGE']==0) )"
      ],
      "execution_count": 9,
      "outputs": [
        {
          "output_type": "stream",
          "text": [
            "2    13335\n",
            "1    11352\n",
            "3      267\n",
            "0       46\n",
            "Name: MARRIAGE, dtype: int64\n"
          ],
          "name": "stdout"
        },
        {
          "output_type": "execute_result",
          "data": {
            "text/plain": [
              "46"
            ]
          },
          "metadata": {
            "tags": []
          },
          "execution_count": 9
        }
      ]
    },
    {
      "metadata": {
        "id": "Kt5PXIWZTxkm",
        "colab_type": "text"
      },
      "cell_type": "markdown",
      "source": [
        "The median age of our dataset is 34 years old, but the mode is for late twenties and early thirties. None of the entries of our dataset have unknown or unavalible values for this feature."
      ]
    },
    {
      "metadata": {
        "id": "ipT3IJenQqLe",
        "colab_type": "code",
        "colab": {
          "base_uri": "https://localhost:8080/",
          "height": 588
        },
        "outputId": "3275334f-0c00-46f4-9091-073db5f2c711"
      },
      "cell_type": "code",
      "source": [
        "print(dat['AGE'].value_counts().nlargest(10))\n",
        "print('NANs found:', sum(dat['AGE']==0)) \n",
        "plt.boxplot(dat['AGE']) \n",
        "plt.title(\"Age Distribution\")"
      ],
      "execution_count": 14,
      "outputs": [
        {
          "output_type": "stream",
          "text": [
            "29    1327\n",
            "27    1244\n",
            "28    1174\n",
            "30    1163\n",
            "26    1045\n",
            "31    1017\n",
            "25     980\n",
            "34     979\n",
            "32     971\n",
            "33     948\n",
            "Name: AGE, dtype: int64\n",
            "NANs found: 0\n"
          ],
          "name": "stdout"
        },
        {
          "output_type": "execute_result",
          "data": {
            "text/plain": [
              "Text(0.5,1,'Age Distribution')"
            ]
          },
          "metadata": {
            "tags": []
          },
          "execution_count": 14
        },
        {
          "output_type": "display_data",
          "data": {
            "image/png": "[encoded data removed]",
            "text/plain": [
              "<matplotlib.figure.Figure at 0x7f360c194ac8>"
            ]
          },
          "metadata": {
            "tags": []
          }
        }
      ]
    },
    {
      "metadata": {
        "id": "llB_3A9EVmJP",
        "colab_type": "text"
      },
      "cell_type": "markdown",
      "source": [
        "Looking at one of the six instances for previous payment amount we see the mode is 0. While it could be  case of having previous payment ammounts of zero, it may also be taking the place of a NAN. They may also be correlated to the six 'PAY' columns."
      ]
    },
    {
      "metadata": {
        "id": "oln6p0amRNPr",
        "colab_type": "code",
        "colab": {
          "base_uri": "https://localhost:8080/",
          "height": 484
        },
        "outputId": "c27f6668-7ca4-4436-c20c-9faae384f313"
      },
      "cell_type": "code",
      "source": [
        "#things to consider, are the 0's here for the actual amount or representing nan\n",
        "print(dat['PAY_AMT1'].value_counts().nlargest(5))\n",
        "fig, ax = plt.subplots(2, 3, sharex='col', sharey='row')\n",
        "sns.distplot(dat['PAY_AMT1'], ax=ax[0,0])\n",
        "sns.distplot(dat['PAY_AMT2'], ax=ax[0,1])\n",
        "sns.distplot(dat['PAY_AMT3'], ax=ax[0,2])\n",
        "sns.distplot(dat['PAY_AMT4'], ax=ax[1,0])\n",
        "sns.distplot(dat['PAY_AMT5'], ax=ax[1,1])\n",
        "sns.distplot(dat['PAY_AMT6'], ax=ax[1,2])\n",
        "plt.title(\"ADD TITLE\")"
      ],
      "execution_count": 11,
      "outputs": [
        {
          "output_type": "stream",
          "text": [
            "0       4379\n",
            "2000    1155\n",
            "3000     756\n",
            "5000     599\n",
            "1500     434\n",
            "Name: PAY_AMT1, dtype: int64\n"
          ],
          "name": "stdout"
        },
        {
          "output_type": "execute_result",
          "data": {
            "text/plain": [
              "Text(0.5,1,'ADD TITLE')"
            ]
          },
          "metadata": {
            "tags": []
          },
          "execution_count": 11
        },
        {
          "output_type": "display_data",
          "data": {
            "image/png": "[encoded data removed]",
            "text/plain": [
              "<matplotlib.figure.Figure at 0x7fc2703aa470>"
            ]
          },
          "metadata": {
            "tags": []
          }
        }
      ]
    },
    {
      "metadata": {
        "id": "_2kJ0NfqUsQy",
        "colab_type": "text"
      },
      "cell_type": "markdown",
      "source": [
        " Looking at one of the six instances for previous payment amount we see the mode is 0, which means the minimum due amount was paid. -2 is included and the meaning is not described in the repo, but looking further we found 0 is minimum was paid, -1 balance was paid in full and -2 means no transactions occured that period. "
      ]
    },
    {
      "metadata": {
        "id": "p4v_YfYXRAHS",
        "colab_type": "code",
        "colab": {
          "base_uri": "https://localhost:8080/",
          "height": 645
        },
        "outputId": "d921fcb8-ade7-434b-d95f-622386b39127"
      },
      "cell_type": "code",
      "source": [
        "print(dat['PAY_0'].value_counts())\n",
        "fig, ax = plt.subplots(2, 3, sharex='col', sharey='row')\n",
        "sns.countplot(x=\"PAY_0\", data=dat, ax=ax[0,0])\n",
        "sns.countplot(x=\"PAY_2\", data=dat, ax=ax[0,1])\n",
        "sns.countplot(x=\"PAY_3\", data=dat, ax=ax[0,2])\n",
        "sns.countplot(x=\"PAY_4\", data=dat, ax=ax[1,0])\n",
        "sns.countplot(x=\"PAY_5\", data=dat, ax=ax[1,1])\n",
        "sns.countplot(x=\"PAY_6\", data=dat, ax=ax[1,2])"
      ],
      "execution_count": 12,
      "outputs": [
        {
          "output_type": "stream",
          "text": [
            " 0    12306\n",
            "-1     4735\n",
            " 1     3066\n",
            "-2     2300\n",
            " 2     2217\n",
            " 3      262\n",
            " 4       62\n",
            " 5       23\n",
            " 8       15\n",
            " 7        7\n",
            " 6        7\n",
            "Name: PAY_0, dtype: int64\n"
          ],
          "name": "stdout"
        },
        {
          "output_type": "stream",
          "text": [
            "/usr/local/lib/python3.6/dist-packages/seaborn/categorical.py:1428: FutureWarning: remove_na is deprecated and is a private function. Do not use.\n",
            "  stat_data = remove_na(group_data)\n"
          ],
          "name": "stderr"
        },
        {
          "output_type": "execute_result",
          "data": {
            "text/plain": [
              "<matplotlib.axes._subplots.AxesSubplot at 0x7fc267eed400>"
            ]
          },
          "metadata": {
            "tags": []
          },
          "execution_count": 12
        },
        {
          "output_type": "display_data",
          "data": {
            "image/png": "[encoded data removed]",
            "text/plain": [
              "<matplotlib.figure.Figure at 0x7fc26838c780>"
            ]
          },
          "metadata": {
            "tags": []
          }
        }
      ]
    },
    {
      "metadata": {
        "id": "c3gtz54kUJsi",
        "colab_type": "text"
      },
      "cell_type": "markdown",
      "source": [
        "We found the 'Bill_AMT' variables contatin negative values in the case a customer overpays their bill. This could be caused by an automatic payment set if the bill for that month is not as high as the automatic payment is set for."
      ]
    },
    {
      "metadata": {
        "id": "jDnnKj34mrGA",
        "colab_type": "code",
        "colab": {
          "base_uri": "https://localhost:8080/",
          "height": 484
        },
        "outputId": "1a9b22b3-1e9f-4842-b42d-c6adb3b695cd"
      },
      "cell_type": "code",
      "source": [
        "#things to consider, are the 0's here for the actual amount or representing nan\n",
        "print(dat['BILL_AMT1'].value_counts().nlargest(5))\n",
        "fig, ax = plt.subplots(2, 3, sharex='col', sharey='row')\n",
        "sns.distplot(dat['BILL_AMT1'], ax=ax[0,0])\n",
        "sns.distplot(dat['BILL_AMT2'], ax=ax[0,1])\n",
        "sns.distplot(dat['BILL_AMT3'], ax=ax[0,2])\n",
        "sns.distplot(dat['BILL_AMT4'], ax=ax[1,0])\n",
        "sns.distplot(dat['BILL_AMT5'], ax=ax[1,1])\n",
        "sns.distplot(dat['BILL_AMT6'], ax=ax[1,2])"
      ],
      "execution_count": 13,
      "outputs": [
        {
          "output_type": "stream",
          "text": [
            "0      1671\n",
            "390     199\n",
            "780      65\n",
            "326      64\n",
            "316      56\n",
            "Name: BILL_AMT1, dtype: int64\n"
          ],
          "name": "stdout"
        },
        {
          "output_type": "execute_result",
          "data": {
            "text/plain": [
              "<matplotlib.axes._subplots.AxesSubplot at 0x7fc267c06438>"
            ]
          },
          "metadata": {
            "tags": []
          },
          "execution_count": 13
        },
        {
          "output_type": "display_data",
          "data": {
            "image/png": "[encoded data removed]",
            "text/plain": [
              "<matplotlib.figure.Figure at 0x7fc2680c3978>"
            ]
          },
          "metadata": {
            "tags": []
          }
        }
      ]
    },
    {
      "metadata": {
        "id": "i2cUyH0Xa-0w",
        "colab_type": "text"
      },
      "cell_type": "markdown",
      "source": [
        "### Feature Correlation Exploration"
      ]
    },
    {
      "metadata": {
        "id": "YBuM8pbuco6z",
        "colab_type": "text"
      },
      "cell_type": "markdown",
      "source": [
        "As far as education goes there seems to be pretty equal likeliness for each class. Male's tend to have a high default rate for each which is interesting considering this set contains almost double the amount of females."
      ]
    },
    {
      "metadata": {
        "id": "P5MkW1iJbDkJ",
        "colab_type": "code",
        "colab": {
          "base_uri": "https://localhost:8080/",
          "height": 449
        },
        "outputId": "02e75149-e9fe-465e-8bae-efa72465d04d"
      },
      "cell_type": "code",
      "source": [
        "dat['default.payment.next.month'].value_counts()\n",
        "sns.barplot(x=\"EDUCATION\", y=\"default.payment.next.month\", hue=\"SEX\", data=dat)\n",
        "plt.title(\"Default by Education and Sex\")"
      ],
      "execution_count": 14,
      "outputs": [
        {
          "output_type": "stream",
          "text": [
            "/usr/local/lib/python3.6/dist-packages/seaborn/categorical.py:1468: FutureWarning: remove_na is deprecated and is a private function. Do not use.\n",
            "  stat_data = remove_na(group_data[hue_mask])\n"
          ],
          "name": "stderr"
        },
        {
          "output_type": "execute_result",
          "data": {
            "text/plain": [
              "Text(0.5,1,'Default by Education and Sex')"
            ]
          },
          "metadata": {
            "tags": []
          },
          "execution_count": 14
        },
        {
          "output_type": "display_data",
          "data": {
            "image/png": "[encoded data removed]",
            "text/plain": [
              "<matplotlib.figure.Figure at 0x7fc26ad89cc0>"
            ]
          },
          "metadata": {
            "tags": []
          }
        }
      ]
    },
    {
      "metadata": {
        "id": "fFIbXC58eieD",
        "colab_type": "text"
      },
      "cell_type": "markdown",
      "source": [
        "When checking if the age at which individuals default was correlated by gender, it can be observed that the age at which the sexes default is relatively similar."
      ]
    },
    {
      "metadata": {
        "id": "JtH85b0Tcxfk",
        "colab_type": "code",
        "colab": {
          "base_uri": "https://localhost:8080/",
          "height": 449
        },
        "outputId": "13de2edf-058b-4158-8723-f6b953afac32"
      },
      "cell_type": "code",
      "source": [
        "sns.boxplot(x=\"default.payment.next.month\", y=\"AGE\", data=dat)\n",
        "plt.title(\"Distribution of Default by Age\")"
      ],
      "execution_count": 15,
      "outputs": [
        {
          "output_type": "stream",
          "text": [
            "/usr/local/lib/python3.6/dist-packages/seaborn/categorical.py:454: FutureWarning: remove_na is deprecated and is a private function. Do not use.\n",
            "  box_data = remove_na(group_data)\n"
          ],
          "name": "stderr"
        },
        {
          "output_type": "execute_result",
          "data": {
            "text/plain": [
              "Text(0.5,1,'Distribution of Default by Age')"
            ]
          },
          "metadata": {
            "tags": []
          },
          "execution_count": 15
        },
        {
          "output_type": "display_data",
          "data": {
            "image/png": "[encoded data removed]",
            "text/plain": [
              "<matplotlib.figure.Figure at 0x7fc26855d320>"
            ]
          },
          "metadata": {
            "tags": []
          }
        }
      ]
    },
    {
      "metadata": {
        "id": "iVgM91_PefTF",
        "colab_type": "text"
      },
      "cell_type": "markdown",
      "source": [
        "Below are violin plots where we visualize the distribution of ages based on an individual's sex and whether or not they default the next month. It was interesting to see that the two samples of those who default and those who didn't seemed to have similar distribution shapes, so by just looking only at a person's sex and age may not be the best to see if whether a person will default or not."
      ]
    },
    {
      "metadata": {
        "id": "KQ6hWQ9FdH_1",
        "colab_type": "code",
        "colab": {
          "base_uri": "https://localhost:8080/",
          "height": 519
        },
        "outputId": "04c08225-abe2-4c84-d8d1-571859c00186"
      },
      "cell_type": "code",
      "source": [
        "sns.violinplot(x=\"default.payment.next.month\", y=\"AGE\", hue=\"SEX\", data=dat, split=True)\n",
        "plt.title(\"Distribution of Default by Sex and Age\")"
      ],
      "execution_count": 16,
      "outputs": [
        {
          "output_type": "stream",
          "text": [
            "/usr/local/lib/python3.6/dist-packages/seaborn/categorical.py:637: FutureWarning: remove_na is deprecated and is a private function. Do not use.\n",
            "  kde_data = remove_na(group_data[hue_mask])\n",
            "/usr/local/lib/python3.6/dist-packages/seaborn/categorical.py:885: FutureWarning: remove_na is deprecated and is a private function. Do not use.\n",
            "  violin_data = remove_na(group_data[hue_mask])\n",
            "/usr/local/lib/python3.6/dist-packages/seaborn/categorical.py:905: FutureWarning: remove_na is deprecated and is a private function. Do not use.\n",
            "  violin_data = remove_na(group_data)\n"
          ],
          "name": "stderr"
        },
        {
          "output_type": "execute_result",
          "data": {
            "text/plain": [
              "Text(0.5,1,'Distribution of Default by Sex and Age')"
            ]
          },
          "metadata": {
            "tags": []
          },
          "execution_count": 16
        },
        {
          "output_type": "display_data",
          "data": {
            "image/png": "[encoded data removed]",
            "text/plain": [
              "<matplotlib.figure.Figure at 0x7fc267f5fb38>"
            ]
          },
          "metadata": {
            "tags": []
          }
        }
      ]
    },
    {
      "metadata": {
        "id": "WU6SGgKgZu5C",
        "colab_type": "text"
      },
      "cell_type": "markdown",
      "source": [
        "# Preprocessing"
      ]
    },
    {
      "metadata": {
        "id": "j5iiqwX9cQ2E",
        "colab_type": "text"
      },
      "cell_type": "markdown",
      "source": [
        "### Feature Manipulation\n"
      ]
    },
    {
      "metadata": {
        "id": "MzZoSE4ngscg",
        "colab_type": "text"
      },
      "cell_type": "markdown",
      "source": [
        "Since the Education column contained two unnamed values: 5 and 6, we decided to make both values 5 and delegate 5 as unknown."
      ]
    },
    {
      "metadata": {
        "id": "u5xhoQaEcvct",
        "colab_type": "code",
        "colab": {
          "base_uri": "https://localhost:8080/",
          "height": 70
        },
        "outputId": "be66659a-c650-4326-8a12-42739aef44ab"
      },
      "cell_type": "code",
      "source": [
        "dat['EDUCATION'].loc[dat['EDUCATION'] == 6]=5\n",
        "dat['default.payment.next.month'].value_counts()"
      ],
      "execution_count": 17,
      "outputs": [
        {
          "output_type": "execute_result",
          "data": {
            "text/plain": [
              "0    19486\n",
              "1     5514\n",
              "Name: default.payment.next.month, dtype: int64"
            ]
          },
          "metadata": {
            "tags": []
          },
          "execution_count": 17
        }
      ]
    },
    {
      "metadata": {
        "id": "qUK5Lb0bb76m",
        "colab_type": "text"
      },
      "cell_type": "markdown",
      "source": [
        "### Derived Features"
      ]
    },
    {
      "metadata": {
        "id": "KJh_88YqdXi0",
        "colab_type": "text"
      },
      "cell_type": "markdown",
      "source": [
        "As part of our preprocessing, we decided to derive more features. We first summed the bill amount of each person between April 2005 -August 2005 since we were provided corresponding information on the payments for these specific months."
      ]
    },
    {
      "metadata": {
        "id": "XYKC0dArb-0k",
        "colab_type": "code",
        "colab": {}
      },
      "cell_type": "code",
      "source": [
        "total_balance=dat[['BILL_AMT2', 'BILL_AMT3', 'BILL_AMT4', 'BILL_AMT5', 'BILL_AMT6']]\n",
        "dat['total_balance']=total_balance.sum(axis=1)"
      ],
      "execution_count": 0,
      "outputs": []
    },
    {
      "metadata": {
        "id": "_JyXZDLWcMFH",
        "colab_type": "code",
        "colab": {}
      },
      "cell_type": "code",
      "source": [
        "total_pay_amount=dat[['PAY_AMT1','PAY_AMT2', 'PAY_AMT3', 'PAY_AMT4','PAY_AMT5']]\n",
        "dat['total_pay_amount']=total_pay_amount.sum(axis=1)"
      ],
      "execution_count": 0,
      "outputs": []
    },
    {
      "metadata": {
        "id": "7TQ24X7zlfmA",
        "colab_type": "text"
      },
      "cell_type": "markdown",
      "source": [
        "Not only are the total balances and total amounts important, but we also decided that looking at the difference between the two amounts might be valuable. We subtracted the total_pay_amount from total_balance in which we decided to see how much was left of the person's credit card balance between a specific time period."
      ]
    },
    {
      "metadata": {
        "id": "DM-zuN88leeI",
        "colab_type": "code",
        "colab": {}
      },
      "cell_type": "code",
      "source": [
        "dat['total_diff']=dat['total_balance']-dat['total_pay_amount']"
      ],
      "execution_count": 0,
      "outputs": []
    },
    {
      "metadata": {
        "id": "ZQgEKhpQe2bg",
        "colab_type": "text"
      },
      "cell_type": "markdown",
      "source": [
        "Another derived feature was summing the total pay information for each individual in which we could get an overall view of whether a person does not use their credit card too often or is consistently late on payments."
      ]
    },
    {
      "metadata": {
        "id": "hRq8scDycPLQ",
        "colab_type": "code",
        "colab": {}
      },
      "cell_type": "code",
      "source": [
        "pay_len=dat[['PAY_0', 'PAY_2','PAY_3','PAY_4','PAY_5','PAY_6']]\n",
        "dat['pay_over_time']=pay_len.sum(axis=1)"
      ],
      "execution_count": 0,
      "outputs": []
    },
    {
      "metadata": {
        "id": "HzBjrhrqfd_O",
        "colab_type": "text"
      },
      "cell_type": "markdown",
      "source": [
        "Because the values inputted in the PAY columns are negative and positive, the  sum of these values do not show enough information of the person's credit card payment patterns. We decided to create four other features to reflect how many times they didn't use their credit card, paid their bill in full, used their revolving credit, and how many total months they were late on payments."
      ]
    },
    {
      "metadata": {
        "id": "6z1tDeCccSkE",
        "colab_type": "code",
        "colab": {}
      },
      "cell_type": "code",
      "source": [
        "dat['total_no_cons']=(pay_len ==-2 ).sum(axis=1)\n",
        "dat['total_full_pay']=(pay_len ==-1 ).sum(axis=1)\n",
        "dat['revolve_credit']=(pay_len ==0 ).sum(axis=1)\n",
        "dat['late_pays']=(pay_len >0 ).sum(axis=1)"
      ],
      "execution_count": 0,
      "outputs": []
    },
    {
      "metadata": {
        "id": "6tuSMRk-Qnvz",
        "colab_type": "text"
      },
      "cell_type": "markdown",
      "source": [
        "### Data Separation"
      ]
    },
    {
      "metadata": {
        "id": "8-i7HLB22ULE",
        "colab_type": "text"
      },
      "cell_type": "markdown",
      "source": [
        "Several other features also represented factors better than they represented numeric values. For example, gender, marriage, and education also do not follow the standard numerical rulesare better as categories. The individual Pay columns also benefit from being factors. "
      ]
    },
    {
      "metadata": {
        "id": "wr3ZFztD2Kfn",
        "colab_type": "code",
        "colab": {}
      },
      "cell_type": "code",
      "source": [
        "as_category = ['PAY_0', 'PAY_2','PAY_3','PAY_4','PAY_5','PAY_6','SEX','EDUCATION','MARRIAGE']"
      ],
      "execution_count": 0,
      "outputs": []
    },
    {
      "metadata": {
        "id": "1QMI3V7NMaWs",
        "colab_type": "text"
      },
      "cell_type": "markdown",
      "source": [
        "Array of numeric data labels"
      ]
    },
    {
      "metadata": {
        "id": "5m0sHM8pjMTU",
        "colab_type": "code",
        "colab": {}
      },
      "cell_type": "code",
      "source": [
        "as_numeric = ['ID','LIMIT_BAL','AGE', 'BILL_AMT1', 'BILL_AMT2', 'BILL_AMT3', 'BILL_AMT4', 'BILL_AMT5', 'BILL_AMT6', 'PAY_AMT1',\n",
        "             'PAY_AMT2', 'PAY_AMT3', 'PAY_AMT4','PAY_AMT5', 'PAY_AMT6','total_balance','total_pay_amount','total_diff',\n",
        "             'pay_over_time','total_no_cons','total_full_pay','revolve_credit','late_pays']"
      ],
      "execution_count": 0,
      "outputs": []
    },
    {
      "metadata": {
        "id": "2X7rGwPHMdHl",
        "colab_type": "text"
      },
      "cell_type": "markdown",
      "source": [
        "Vector of output labels"
      ]
    },
    {
      "metadata": {
        "id": "pHEg-kK3Hmdc",
        "colab_type": "code",
        "colab": {
          "base_uri": "https://localhost:8080/",
          "height": 70
        },
        "outputId": "c03837c3-cab5-4740-bae8-7c4897130d33"
      },
      "cell_type": "code",
      "source": [
        "labels = ['default.payment.next.month']"
      ],
      "execution_count": 25,
      "outputs": [
        {
          "output_type": "execute_result",
          "data": {
            "text/plain": [
              "0    19486\n",
              "1     5514\n",
              "Name: default.payment.next.month, dtype: int64"
            ]
          },
          "metadata": {
            "tags": []
          },
          "execution_count": 25
        }
      ]
    },
    {
      "metadata": {
        "id": "HeVNWMbiMpcF",
        "colab_type": "text"
      },
      "cell_type": "markdown",
      "source": [
        "### Preprocessing Definitions"
      ]
    },
    {
      "metadata": {
        "id": "bpdpC04LNsf7",
        "colab_type": "code",
        "colab": {}
      },
      "cell_type": "code",
      "source": [
        "class DataFrameSelector(BaseEstimator, TransformerMixin):\n",
        "    def __init__(self, attribute_names):\n",
        "        self.attribute_names = attribute_names\n",
        "    def fit(self, X, y=None):\n",
        "        return self\n",
        "    def transform(self, X):\n",
        "         return X[self.attribute_names]"
      ],
      "execution_count": 0,
      "outputs": []
    },
    {
      "metadata": {
        "id": "RjdAJ63eXuXZ",
        "colab_type": "code",
        "colab": {}
      },
      "cell_type": "code",
      "source": [
        "class DummyEncoder(TransformerMixin):\n",
        "    def __init__(self, columns=None):\n",
        "        self.columns = columns\n",
        "    def transform(self, X, y=None, **kwargs):\n",
        "        return pd.get_dummies(X, columns=self.columns)\n",
        "    def fit(self, X, y=None, **kwargs):\n",
        "        return self"
      ],
      "execution_count": 0,
      "outputs": []
    },
    {
      "metadata": {
        "id": "gb0Cr8KNN3Df",
        "colab_type": "text"
      },
      "cell_type": "markdown",
      "source": [
        "### Pipelines"
      ]
    },
    {
      "metadata": {
        "id": "JD5kkyJsObrv",
        "colab_type": "code",
        "colab": {}
      },
      "cell_type": "code",
      "source": [
        "num_pipe=Pipeline([\n",
        "        (\"selector\", DataFrameSelector(as_numeric)),\n",
        "        (\"scale\", StandardScaler())\n",
        "        ])"
      ],
      "execution_count": 0,
      "outputs": []
    },
    {
      "metadata": {
        "id": "hKYWK9_cPq6t",
        "colab_type": "code",
        "colab": {}
      },
      "cell_type": "code",
      "source": [
        "cat_pipe=Pipeline([\n",
        "        (\"selector\", DataFrameSelector(as_category)),\n",
        "        (\"convert\", DummyEncoder(columns=as_category)),\n",
        "        (\"scale\", StandardScaler())\n",
        "        ])\n"
      ],
      "execution_count": 0,
      "outputs": []
    },
    {
      "metadata": {
        "id": "OQI-cmGsN47N",
        "colab_type": "code",
        "colab": {}
      },
      "cell_type": "code",
      "source": [
        "full_pipeline = FeatureUnion(transformer_list=[\n",
        "        (\"cat_pipeline\", cat_pipe ),\n",
        "        (\"num_pipeline\", num_pipe ),\n",
        "        ])"
      ],
      "execution_count": 0,
      "outputs": []
    },
    {
      "metadata": {
        "id": "5EgcpvSSP36E",
        "colab_type": "code",
        "colab": {}
      },
      "cell_type": "code",
      "source": [
        "dat_prepared = full_pipeline.fit_transform(dat)"
      ],
      "execution_count": 0,
      "outputs": []
    },
    {
      "metadata": {
        "id": "q1ja3i-nnvgs",
        "colab_type": "text"
      },
      "cell_type": "markdown",
      "source": [
        "# Create Train and Test Sets\n"
      ]
    },
    {
      "metadata": {
        "id": "PA8kvNdwoDLo",
        "colab_type": "text"
      },
      "cell_type": "markdown",
      "source": [
        "We reserved 30% of the data for the test set, the remainder acting as the training set."
      ]
    },
    {
      "metadata": {
        "id": "uG23s5RVn5Cb",
        "colab_type": "code",
        "colab": {}
      },
      "cell_type": "code",
      "source": [
        "X_train, X_test, Y_train, Y_test = train_test_split(dat_prepared,dat[labels], test_size=0.3)"
      ],
      "execution_count": 0,
      "outputs": []
    },
    {
      "metadata": {
        "id": "TSL0CJHUZ8Fr",
        "colab_type": "text"
      },
      "cell_type": "markdown",
      "source": [
        "# Dimensionality Reduction\n"
      ]
    },
    {
      "metadata": {
        "id": "Q9LL2dP8ngka",
        "colab_type": "text"
      },
      "cell_type": "markdown",
      "source": [
        "### PCA"
      ]
    },
    {
      "metadata": {
        "id": "6lZ3TSgupMLR",
        "colab_type": "text"
      },
      "cell_type": "markdown",
      "source": [
        "We first used PCA to find the optimum number of dimensions, with 25 dimensions, the original number of dimensions before derived and dummie features were added, we see about 12% of the datas variance lies along the first axis."
      ]
    },
    {
      "metadata": {
        "id": "H28u6OO1nfYF",
        "colab_type": "code",
        "colab": {
          "base_uri": "https://localhost:8080/",
          "height": 105
        },
        "outputId": "b443c6ab-0df1-4574-f32f-8a555ae167f0"
      },
      "cell_type": "code",
      "source": [
        "pca = PCA(n_components = 25)\n",
        "X25D = pca.fit_transform(X_train)\n",
        "print(pca.explained_variance_ratio_)"
      ],
      "execution_count": 33,
      "outputs": [
        {
          "output_type": "stream",
          "text": [
            "[0.11892624 0.06415455 0.0585116  0.05344484 0.04956592 0.03830502\n",
            " 0.0325336  0.03099279 0.02597735 0.02512528 0.0230947  0.01953612\n",
            " 0.01890009 0.01718859 0.01664267 0.0157442  0.01505816 0.01420303\n",
            " 0.01363419 0.01335899 0.01225485 0.01171167 0.01158411 0.01126945\n",
            " 0.01108065]\n"
          ],
          "name": "stdout"
        }
      ]
    },
    {
      "metadata": {
        "id": "zveXijxWyMGe",
        "colab_type": "text"
      },
      "cell_type": "markdown",
      "source": [
        "We then ran a form of PCA which would find the number of copmonents which would be required to get 95%. After running this we saw 50 was the minimum number of components needed to preserve 95% of the training set's variance. We plotted the cumsum and found the elbow to appear around 50. Since 50 principle components is not ideal we decided to explore other dimensionality reduction techniques. "
      ]
    },
    {
      "metadata": {
        "id": "L38SoOvQyLAY",
        "colab_type": "code",
        "colab": {
          "base_uri": "https://localhost:8080/",
          "height": 558
        },
        "outputId": "1a2608f4-95d9-4243-9c5d-2f4610a0a282"
      },
      "cell_type": "code",
      "source": [
        "pca2 = PCA()\n",
        "pca2.fit(X_train)\n",
        "cumsum = np.cumsum(pca2.explained_variance_ratio_)\n",
        "d = np.argmax(cumsum >= 0.95) + 1\n",
        "print(d)\n",
        "pca2 = PCA(n_components = d)\n",
        "XdD = pca2.fit_transform(X_train)\n",
        "print(pca2.explained_variance_ratio_)\n",
        "plt.plot(cumsum)"
      ],
      "execution_count": 34,
      "outputs": [
        {
          "output_type": "stream",
          "text": [
            "55\n",
            "[0.11892624 0.06415455 0.0585116  0.05344484 0.04956594 0.03830506\n",
            " 0.03253365 0.03099288 0.02598036 0.02512566 0.02309576 0.01954144\n",
            " 0.01890692 0.01721266 0.01664956 0.01575583 0.0151034  0.01424129\n",
            " 0.01368353 0.01342601 0.01242338 0.01185722 0.01167156 0.01143843\n",
            " 0.01124114 0.01075825 0.0103949  0.01027845 0.01005896 0.00991603\n",
            " 0.00983989 0.00971677 0.00962521 0.00942225 0.0091054  0.0087589\n",
            " 0.00870542 0.00829374 0.00800468 0.00787532 0.00780333 0.00745614\n",
            " 0.0073001  0.0071215  0.00692791 0.00643433 0.0060308  0.00589598\n",
            " 0.00579516 0.0054019  0.00495368 0.00488179 0.00479819 0.00421225\n",
            " 0.00400382]\n"
          ],
          "name": "stdout"
        },
        {
          "output_type": "execute_result",
          "data": {
            "text/plain": [
              "[<matplotlib.lines.Line2D at 0x7fc264e5deb8>]"
            ]
          },
          "metadata": {
            "tags": []
          },
          "execution_count": 34
        },
        {
          "output_type": "display_data",
          "data": {
            "image/png": "[encoded data removed]",
            "text/plain": [
              "<matplotlib.figure.Figure at 0x7fc267714320>"
            ]
          },
          "metadata": {
            "tags": []
          }
        }
      ]
    },
    {
      "metadata": {
        "id": "430Q9mZjA2rh",
        "colab_type": "text"
      },
      "cell_type": "markdown",
      "source": [
        "### LLE"
      ]
    },
    {
      "metadata": {
        "id": "rjfCbcS972DT",
        "colab_type": "text"
      },
      "cell_type": "markdown",
      "source": [
        "Since PCA did not work well with our dataset, we moved onto locally linear embedding to try and reduce our dimensions. Using LLE we reduced our dimensions to 2. We later tested the reduced dimensions with LLE."
      ]
    },
    {
      "metadata": {
        "id": "S-7Hz5OKA1y4",
        "colab_type": "code",
        "colab": {}
      },
      "cell_type": "code",
      "source": [
        "lle = LocallyLinearEmbedding(n_components=2, n_neighbors=10)\n",
        "X_reduced = lle.fit_transform(X_train)"
      ],
      "execution_count": 0,
      "outputs": []
    },
    {
      "metadata": {
        "id": "qmyQ-7ybZ-Zx",
        "colab_type": "text"
      },
      "cell_type": "markdown",
      "source": [
        "# Models"
      ]
    },
    {
      "metadata": {
        "id": "rYsbhEIXiKPe",
        "colab_type": "text"
      },
      "cell_type": "markdown",
      "source": [
        "### Logistic Regression"
      ]
    },
    {
      "metadata": {
        "id": "VCqKaKDHIusO",
        "colab_type": "text"
      },
      "cell_type": "markdown",
      "source": [
        "For our first classifier model, we developed a Logistic Regression model. We printed out the score of the model on the trained data set versus the test data set. Based on the two scores we can see that there is no issue of an overfit, and that the model has over an 80% accuracy."
      ]
    },
    {
      "metadata": {
        "id": "rO6zfwzAItLg",
        "colab_type": "code",
        "colab": {
          "base_uri": "https://localhost:8080/",
          "height": 72
        },
        "outputId": "9033e599-3b9d-486f-f3f8-f7850419e60c"
      },
      "cell_type": "code",
      "source": [
        "clf_reg=LogisticRegression()\n",
        "clf_reg.fit(X_train,Y_train)\n",
        "Y_pred_logr=clf_reg.predict(X_train)\n",
        "Y_predict_logr=clf_reg.predict(X_test)"
      ],
      "execution_count": 36,
      "outputs": [
        {
          "output_type": "stream",
          "text": [
            "/usr/local/lib/python3.6/dist-packages/sklearn/utils/validation.py:578: DataConversionWarning: A column-vector y was passed when a 1d array was expected. Please change the shape of y to (n_samples, ), for example using ravel().\n",
            "  y = column_or_1d(y, warn=True)\n"
          ],
          "name": "stderr"
        }
      ]
    },
    {
      "metadata": {
        "id": "hwDzaM7STawM",
        "colab_type": "code",
        "colab": {
          "base_uri": "https://localhost:8080/",
          "height": 52
        },
        "outputId": "4fd7138d-c06f-469a-c9db-979fc732edf4"
      },
      "cell_type": "code",
      "source": [
        "print(\"Score of Logistic Regression Model on train: \",\"{0:.4f}\".format(clf_reg.score(X_train,Y_train)))"
      ],
      "execution_count": 79,
      "outputs": [
        {
          "output_type": "stream",
          "text": [
            "Score of Logistic Regression Model on train:  0.8220\n",
            "Score of Logistic Regression Model on test:  0.8165333333333333\n"
          ],
          "name": "stdout"
        }
      ]
    },
    {
      "metadata": {
        "id": "rew8bigx8YZn",
        "colab_type": "text"
      },
      "cell_type": "markdown",
      "source": [
        "### Logistic Regression with LLE"
      ]
    },
    {
      "metadata": {
        "id": "mP9whZUu96R5",
        "colab_type": "text"
      },
      "cell_type": "markdown",
      "source": [
        "By using the training test produced from LLE we actually saw about a 4% decrease in accuracy. Although it was unfortunate not to see our accuracy improve, the model would be adequate for a situation where the results need to be explained."
      ]
    },
    {
      "metadata": {
        "id": "h1WGAm2B8bLi",
        "colab_type": "code",
        "colab": {
          "base_uri": "https://localhost:8080/",
          "height": 143
        },
        "outputId": "61467ec1-9e12-4584-a19c-478aae820452"
      },
      "cell_type": "code",
      "source": [
        "clf_reg_lle=LogisticRegression()\n",
        "clf_reg_lle.fit(X_reduced,Y_train)"
      ],
      "execution_count": 38,
      "outputs": [
        {
          "output_type": "stream",
          "text": [
            "/usr/local/lib/python3.6/dist-packages/sklearn/utils/validation.py:578: DataConversionWarning: A column-vector y was passed when a 1d array was expected. Please change the shape of y to (n_samples, ), for example using ravel().\n",
            "  y = column_or_1d(y, warn=True)\n"
          ],
          "name": "stderr"
        },
        {
          "output_type": "execute_result",
          "data": {
            "text/plain": [
              "LogisticRegression(C=1.0, class_weight=None, dual=False, fit_intercept=True,\n",
              "          intercept_scaling=1, max_iter=100, multi_class='ovr', n_jobs=1,\n",
              "          penalty='l2', random_state=None, solver='liblinear', tol=0.0001,\n",
              "          verbose=0, warm_start=False)"
            ]
          },
          "metadata": {
            "tags": []
          },
          "execution_count": 38
        }
      ]
    },
    {
      "metadata": {
        "id": "v8GbSqCATii6",
        "colab_type": "code",
        "colab": {
          "base_uri": "https://localhost:8080/",
          "height": 35
        },
        "outputId": "129f2d2b-304d-4ad0-c2e9-6869e9582794"
      },
      "cell_type": "code",
      "source": [
        "print(\"Score of Logistic Regression Model with LLE on train: \",\"{0:.4f}\".format(clf_reg_lle.score(X_reduced,Y_train)))"
      ],
      "execution_count": 39,
      "outputs": [
        {
          "output_type": "stream",
          "text": [
            "Score of Logistic Regression Model with LLE on train:  0.7790\n"
          ],
          "name": "stdout"
        }
      ]
    },
    {
      "metadata": {
        "id": "va9ULxnmiPD5",
        "colab_type": "text"
      },
      "cell_type": "markdown",
      "source": [
        "### SVC"
      ]
    },
    {
      "metadata": {
        "id": "jPLJuEOiJkVb",
        "colab_type": "text"
      },
      "cell_type": "markdown",
      "source": [
        "We then developed a Support Vector Machine model, specifically a Soft Margin Classifier (SVC). For this model, we also looked at the score on the train and test set in order to see the model's overall performance. We do see a difference in perfomance if we compared this model to a simple logistic regression model. Our score for the Soft Margin Classifier is in fact very similar to the Logistic Regression model."
      ]
    },
    {
      "metadata": {
        "id": "eW7WJSJ9oCDk",
        "colab_type": "code",
        "colab": {
          "base_uri": "https://localhost:8080/",
          "height": 72
        },
        "outputId": "520b0b96-a7f3-4e8e-f98b-bfe0367b2bc0"
      },
      "cell_type": "code",
      "source": [
        "svm_clf=LinearSVC()\n",
        "svm_clf.fit(X_train,Y_train)\n",
        "Y_train_pred_svm=svm_clf.predict(X_train)\n",
        "Y_predict_clf=svm_clf.predict(X_test)"
      ],
      "execution_count": 40,
      "outputs": [
        {
          "output_type": "stream",
          "text": [
            "/usr/local/lib/python3.6/dist-packages/sklearn/utils/validation.py:578: DataConversionWarning: A column-vector y was passed when a 1d array was expected. Please change the shape of y to (n_samples, ), for example using ravel().\n",
            "  y = column_or_1d(y, warn=True)\n"
          ],
          "name": "stderr"
        }
      ]
    },
    {
      "metadata": {
        "id": "6lXdB6d7TrLn",
        "colab_type": "code",
        "colab": {
          "base_uri": "https://localhost:8080/",
          "height": 35
        },
        "outputId": "f0d72ab9-e3e3-4ad6-be3f-eb4240bfedf7"
      },
      "cell_type": "code",
      "source": [
        "print(\"Score of SVM Regression Model on train: \",svm_clf.score(X_train,Y_train))"
      ],
      "execution_count": 41,
      "outputs": [
        {
          "output_type": "stream",
          "text": [
            "Score of SVM Regression Model on train:  0.8208\n"
          ],
          "name": "stdout"
        }
      ]
    },
    {
      "metadata": {
        "id": "Xjd5zPDc-LLk",
        "colab_type": "text"
      },
      "cell_type": "markdown",
      "source": [
        "### SVC with LLE"
      ]
    },
    {
      "metadata": {
        "id": "EbaUbca3-mG4",
        "colab_type": "text"
      },
      "cell_type": "markdown",
      "source": [
        "Similar to Logistic Regression, the accuracy did not improve with the set from dimensionality reduction."
      ]
    },
    {
      "metadata": {
        "id": "KJOxDD70-N44",
        "colab_type": "code",
        "colab": {
          "base_uri": "https://localhost:8080/",
          "height": 143
        },
        "outputId": "e55b5698-6c87-4e8d-af3b-b02fb764c614"
      },
      "cell_type": "code",
      "source": [
        "svm_clf_lle=LinearSVC()\n",
        "svm_clf_lle.fit(X_reduced,Y_train)"
      ],
      "execution_count": 42,
      "outputs": [
        {
          "output_type": "stream",
          "text": [
            "/usr/local/lib/python3.6/dist-packages/sklearn/utils/validation.py:578: DataConversionWarning: A column-vector y was passed when a 1d array was expected. Please change the shape of y to (n_samples, ), for example using ravel().\n",
            "  y = column_or_1d(y, warn=True)\n"
          ],
          "name": "stderr"
        },
        {
          "output_type": "execute_result",
          "data": {
            "text/plain": [
              "LinearSVC(C=1.0, class_weight=None, dual=True, fit_intercept=True,\n",
              "     intercept_scaling=1, loss='squared_hinge', max_iter=1000,\n",
              "     multi_class='ovr', penalty='l2', random_state=None, tol=0.0001,\n",
              "     verbose=0)"
            ]
          },
          "metadata": {
            "tags": []
          },
          "execution_count": 42
        }
      ]
    },
    {
      "metadata": {
        "id": "XLMWwUgOTv2E",
        "colab_type": "code",
        "colab": {
          "base_uri": "https://localhost:8080/",
          "height": 35
        },
        "outputId": "abbc2e4e-8ca9-4a70-ace3-3672edc621b2"
      },
      "cell_type": "code",
      "source": [
        "print(\"Score of SVM Regression Model with LLE on train: \",\"{0:.4f}\".format(svm_clf_lle.score(X_reduced,Y_train)))"
      ],
      "execution_count": 43,
      "outputs": [
        {
          "output_type": "stream",
          "text": [
            "Score of SVM Regression Model with LLE on train:  0.7820\n"
          ],
          "name": "stdout"
        }
      ]
    },
    {
      "metadata": {
        "id": "zruyimVH__wD",
        "colab_type": "text"
      },
      "cell_type": "markdown",
      "source": [
        "# Fine Tuning"
      ]
    },
    {
      "metadata": {
        "id": "tNWSjJv58n_Z",
        "colab_type": "text"
      },
      "cell_type": "markdown",
      "source": [
        "Since the Logistic Regression model slightly performed better than a SVM Classifier, we decied to fine tune the Logistic Regression model. GridSearchCV was implemented in order to find the best hyperparameters."
      ]
    },
    {
      "metadata": {
        "id": "FOFC_DMR8acO",
        "colab_type": "code",
        "colab": {
          "base_uri": "https://localhost:8080/",
          "height": 195
        },
        "outputId": "38bc0768-a1c4-4348-88c0-9f530d5466e9"
      },
      "cell_type": "code",
      "source": [
        "logreg_grid=[\n",
        "    {'C':[0.001, 0.01, 0.1, 1, 1.01,1.1],\n",
        "     'max_iter':[100,1000],'warm_start':['True','False']},\n",
        "]\n",
        "log_reg=LogisticRegression()\n",
        "grid_search=GridSearchCV(log_reg,logreg_grid,cv=5,scoring='neg_mean_squared_error')\n",
        "grid_search.fit(X_train,Y_train.values.ravel())"
      ],
      "execution_count": 44,
      "outputs": [
        {
          "output_type": "execute_result",
          "data": {
            "text/plain": [
              "GridSearchCV(cv=5, error_score='raise',\n",
              "       estimator=LogisticRegression(C=1.0, class_weight=None, dual=False, fit_intercept=True,\n",
              "          intercept_scaling=1, max_iter=100, multi_class='ovr', n_jobs=1,\n",
              "          penalty='l2', random_state=None, solver='liblinear', tol=0.0001,\n",
              "          verbose=0, warm_start=False),\n",
              "       fit_params=None, iid=True, n_jobs=1,\n",
              "       param_grid=[{'C': [0.001, 0.01, 0.1, 1, 1.01, 1.1], 'max_iter': [100, 1000], 'warm_start': ['True', 'False']}],\n",
              "       pre_dispatch='2*n_jobs', refit=True, return_train_score='warn',\n",
              "       scoring='neg_mean_squared_error', verbose=0)"
            ]
          },
          "metadata": {
            "tags": []
          },
          "execution_count": 44
        }
      ]
    },
    {
      "metadata": {
        "id": "eCYxmQ5t84O9",
        "colab_type": "text"
      },
      "cell_type": "markdown",
      "source": [
        "We then stored a copy the best hyperparameter values in order to tune our model and begin training again."
      ]
    },
    {
      "metadata": {
        "id": "w2pZDeWB8j0-",
        "colab_type": "code",
        "colab": {
          "base_uri": "https://localhost:8080/",
          "height": 35
        },
        "outputId": "784ef5fb-d224-4c67-e0f8-f62857a8994c"
      },
      "cell_type": "code",
      "source": [
        "print(\"Best Parameters:\",grid_search.best_params_)"
      ],
      "execution_count": 45,
      "outputs": [
        {
          "output_type": "stream",
          "text": [
            "Best Parameters: {'C': 0.1, 'max_iter': 100, 'warm_start': 'True'}\n"
          ],
          "name": "stdout"
        }
      ]
    },
    {
      "metadata": {
        "id": "L_YmBmzuJVTv",
        "colab_type": "code",
        "colab": {}
      },
      "cell_type": "code",
      "source": [
        "best_c_param=grid_search.best_params_.get('C')\n",
        "best_max_iter_param=grid_search.best_params_.get('max_iter')\n",
        "best_warm_start_param=grid_search.best_params_.get('warm_start')"
      ],
      "execution_count": 0,
      "outputs": []
    },
    {
      "metadata": {
        "id": "RmyRuK6cHdVX",
        "colab_type": "text"
      },
      "cell_type": "markdown",
      "source": [
        "# Re-Tuned Model"
      ]
    },
    {
      "metadata": {
        "id": "txOF4sRFi1tF",
        "colab_type": "text"
      },
      "cell_type": "markdown",
      "source": [
        "We now begin to retrain our re-tuned Logistic Regression model in comparison with a Logistic Regression model with LLE dimensionality reduction."
      ]
    },
    {
      "metadata": {
        "id": "kUV6FCktJCU7",
        "colab_type": "text"
      },
      "cell_type": "markdown",
      "source": [
        "### Logistic Regression"
      ]
    },
    {
      "metadata": {
        "id": "3k0RkE2uI8oq",
        "colab_type": "code",
        "colab": {
          "base_uri": "https://localhost:8080/",
          "height": 72
        },
        "outputId": "a1f68e00-e873-4732-ac06-dfe20da446e1"
      },
      "cell_type": "code",
      "source": [
        "clf_reg_retuned=LogisticRegression(C=best_c_param,max_iter=best_max_iter_param,\n",
        "                                  warm_start=best_warm_start_param)\n",
        "clf_reg_retuned.fit(X_train,Y_train)\n",
        "Y_pred_logr_retuned=clf_reg_retuned.predict(X_train)\n",
        "Y_predict_logr_retuned=clf_reg_retuned.predict(X_test)"
      ],
      "execution_count": 47,
      "outputs": [
        {
          "output_type": "stream",
          "text": [
            "/usr/local/lib/python3.6/dist-packages/sklearn/utils/validation.py:578: DataConversionWarning: A column-vector y was passed when a 1d array was expected. Please change the shape of y to (n_samples, ), for example using ravel().\n",
            "  y = column_or_1d(y, warn=True)\n"
          ],
          "name": "stderr"
        }
      ]
    },
    {
      "metadata": {
        "id": "TLejJtQnM1Wq",
        "colab_type": "code",
        "colab": {
          "base_uri": "https://localhost:8080/",
          "height": 35
        },
        "outputId": "6bb980fe-0625-4ce7-e52d-23677ff639f6"
      },
      "cell_type": "code",
      "source": [
        "print(\"Score of Logistic Regression Model on train: \",\"{0:.4f}\".format(clf_reg_retuned.score(X_train,Y_train)))"
      ],
      "execution_count": 48,
      "outputs": [
        {
          "output_type": "stream",
          "text": [
            "Score of Logistic Regression Model on train:  0.8221\n"
          ],
          "name": "stdout"
        }
      ]
    },
    {
      "metadata": {
        "id": "Ps57sHI3JF-h",
        "colab_type": "text"
      },
      "cell_type": "markdown",
      "source": [
        "### Logistic Regression using LLE"
      ]
    },
    {
      "metadata": {
        "id": "cmgd2k6aJL1A",
        "colab_type": "code",
        "colab": {
          "base_uri": "https://localhost:8080/",
          "height": 143
        },
        "outputId": "55343031-f0b5-4b85-f273-b7c406eb68d1"
      },
      "cell_type": "code",
      "source": [
        "clf_reg_lle_retuned=LogisticRegression(C=best_c_param,max_iter=best_max_iter_param,\n",
        "                                  warm_start=best_warm_start_param)\n",
        "clf_reg_lle_retuned.fit(X_reduced,Y_train)"
      ],
      "execution_count": 49,
      "outputs": [
        {
          "output_type": "stream",
          "text": [
            "/usr/local/lib/python3.6/dist-packages/sklearn/utils/validation.py:578: DataConversionWarning: A column-vector y was passed when a 1d array was expected. Please change the shape of y to (n_samples, ), for example using ravel().\n",
            "  y = column_or_1d(y, warn=True)\n"
          ],
          "name": "stderr"
        },
        {
          "output_type": "execute_result",
          "data": {
            "text/plain": [
              "LogisticRegression(C=0.1, class_weight=None, dual=False, fit_intercept=True,\n",
              "          intercept_scaling=1, max_iter=100, multi_class='ovr', n_jobs=1,\n",
              "          penalty='l2', random_state=None, solver='liblinear', tol=0.0001,\n",
              "          verbose=0, warm_start='True')"
            ]
          },
          "metadata": {
            "tags": []
          },
          "execution_count": 49
        }
      ]
    },
    {
      "metadata": {
        "id": "8xUmol6mNDOf",
        "colab_type": "code",
        "colab": {
          "base_uri": "https://localhost:8080/",
          "height": 35
        },
        "outputId": "5972a0f6-7370-4263-b064-3b084f3a528b"
      },
      "cell_type": "code",
      "source": [
        "print(\"Score of Logistic Regression Model with LLE on train: \",\"{0:.4f}\".format(clf_reg_lle_retuned.score(X_reduced,Y_train)))"
      ],
      "execution_count": 50,
      "outputs": [
        {
          "output_type": "stream",
          "text": [
            "Score of Logistic Regression Model with LLE on train:  0.7790\n"
          ],
          "name": "stdout"
        }
      ]
    },
    {
      "metadata": {
        "id": "Aecjb_ttNAxR",
        "colab_type": "text"
      },
      "cell_type": "markdown",
      "source": [
        "Based on the scores of the Logistic Regression model and the Logistic Regression model with LLE dimensionality reduction after being re-tuned, we noticed the model performed slightly better without the use of LLE, so we have decided to try an ensemble method."
      ]
    },
    {
      "metadata": {
        "id": "-Ms8OqnBj7Ak",
        "colab_type": "text"
      },
      "cell_type": "markdown",
      "source": [
        "# Ensemble Learning"
      ]
    },
    {
      "metadata": {
        "id": "6MHMTe6v7U7v",
        "colab_type": "text"
      },
      "cell_type": "markdown",
      "source": [
        "## Bagging Classifier"
      ]
    },
    {
      "metadata": {
        "id": "QO-QJdNd4f0E",
        "colab_type": "text"
      },
      "cell_type": "markdown",
      "source": [
        "Because our previous models were not improving as much as we would have liked, we then turned to ensemble learning. For our first method, we tried a Bagging Classsifier using a Decision Tree Classifier.\n",
        "\n",
        "Many of the parameters were manually adjusted while looking at the score on the training and test set."
      ]
    },
    {
      "metadata": {
        "id": "Wy1d_LMx3orH",
        "colab_type": "code",
        "colab": {}
      },
      "cell_type": "code",
      "source": [
        "bag_clf=BaggingClassifier(\n",
        "    DecisionTreeClassifier(splitter='random',max_depth=10,max_features=47),n_estimators=500,\n",
        "    max_samples=320,bootstrap=True,n_jobs=-1,oob_score=False)\n",
        "bag_clf.fit(X_train,Y_train.values.ravel())\n",
        "predict_bagging=bag_clf.predict(X_test)"
      ],
      "execution_count": 0,
      "outputs": []
    },
    {
      "metadata": {
        "id": "BB-HUibJ6xeE",
        "colab_type": "text"
      },
      "cell_type": "markdown",
      "source": [
        "Below we can see the two scores on the training and test set in which this method showed slight improvements from our previous models. Not only that, but we can see that we are not overfitting since our score on the test set did not have a significantly large difference compared to the training set."
      ]
    },
    {
      "metadata": {
        "id": "EidN3LaG4AdS",
        "colab_type": "code",
        "colab": {
          "base_uri": "https://localhost:8080/",
          "height": 35
        },
        "outputId": "a494cda6-d0ae-4b16-8d85-a37f76d74b08"
      },
      "cell_type": "code",
      "source": [
        "print(\"Decision Tree Classifier with Bagging Score on Training: \", \"{0:.4f}\".format(bag_clf.score(X_train,Y_train)))"
      ],
      "execution_count": 53,
      "outputs": [
        {
          "output_type": "stream",
          "text": [
            "Decision Tree Classifier with Bagging Score on Training:  0.8226\n"
          ],
          "name": "stdout"
        }
      ]
    },
    {
      "metadata": {
        "id": "GrAYQpOO4ITX",
        "colab_type": "code",
        "colab": {
          "base_uri": "https://localhost:8080/",
          "height": 35
        },
        "outputId": "f1833d10-073e-4c31-8345-d39065b39e6f"
      },
      "cell_type": "code",
      "source": [
        "print(\"Decision Tree Classifier with Bagging Score on Test :\",\"{0:.4f}\".format(bag_clf.score(X_test,Y_test)))"
      ],
      "execution_count": 54,
      "outputs": [
        {
          "output_type": "stream",
          "text": [
            "Decision Tree Classifier with Bagging Score on Test : 0.8169\n"
          ],
          "name": "stdout"
        }
      ]
    },
    {
      "metadata": {
        "id": "6DuKRv8t7bT3",
        "colab_type": "text"
      },
      "cell_type": "markdown",
      "source": [
        "## Voting Classifier"
      ]
    },
    {
      "metadata": {
        "id": "t_1Hqmtgcj62",
        "colab_type": "text"
      },
      "cell_type": "markdown",
      "source": [
        "We then implemented a Voting Classifier using 3 of our previous models: Logistic Regression, LinearSVC, and DecisionTreeClassifier. A new model added was a Random ForestClassifier."
      ]
    },
    {
      "metadata": {
        "id": "8owBVzekWr3t",
        "colab_type": "code",
        "colab": {
          "base_uri": "https://localhost:8080/",
          "height": 72
        },
        "outputId": "bb2e1ae7-294d-43d7-e3aa-d26f513fea99"
      },
      "cell_type": "code",
      "source": [
        "log_clf=LogisticRegression(C=best_c_param,max_iter=best_max_iter_param,\n",
        "                                  warm_start=best_warm_start_param)\n",
        "rnd_clf=RandomForestClassifier(bootstrap=True,max_depth=5,max_features=30,\n",
        "                               n_estimators=155)\n",
        "svm_clf=LinearSVC(C= 0.01, loss= 'squared_hinge')\n",
        "dt_clf=DecisionTreeClassifier(splitter='random',max_depth=10,max_features=47)\n",
        "voting_clf=VotingClassifier(\n",
        "    estimators=[('lr',log_clf),\n",
        "               ('rf',rnd_clf), ('svc',svm_clf),('dt',dt_clf)],voting='hard')\n",
        "voting_clf.fit(X_train, Y_train.values.ravel())\n",
        "predict_voting=voting_clf.predict(X_test)"
      ],
      "execution_count": 71,
      "outputs": [
        {
          "output_type": "stream",
          "text": [
            "/usr/local/lib/python3.6/dist-packages/sklearn/preprocessing/label.py:151: DeprecationWarning: The truth value of an empty array is ambiguous. Returning False, but in future this will result in an error. Use `array.size > 0` to check that an array is not empty.\n",
            "  if diff:\n"
          ],
          "name": "stderr"
        }
      ]
    },
    {
      "metadata": {
        "id": "ZMDHiabddAAZ",
        "colab_type": "text"
      },
      "cell_type": "markdown",
      "source": [
        "To see our overall performance from the Voting Classifier, we printed out the accuracy score of each model used within the classifier as well as the overall accuracy score of the model."
      ]
    },
    {
      "metadata": {
        "id": "HNfE_oCEXU5i",
        "colab_type": "code",
        "colab": {
          "base_uri": "https://localhost:8080/",
          "height": 160
        },
        "outputId": "45f5f813-8fa9-4627-f5bc-a9d25247d733"
      },
      "cell_type": "code",
      "source": [
        "for class_algo in (log_clf, rnd_clf,svm_clf,dt_clf,voting_clf):\n",
        "    class_algo.fit(X_train,Y_train.values.ravel())\n",
        "    y_pred=class_algo.predict(X_test)\n",
        "    print(class_algo.__class__.__name__,\n",
        "         accuracy_score(Y_test,y_pred))"
      ],
      "execution_count": 72,
      "outputs": [
        {
          "output_type": "stream",
          "text": [
            "LogisticRegression 0.8166666666666667\n",
            "RandomForestClassifier 0.8170666666666667\n",
            "LinearSVC 0.8166666666666667\n",
            "DecisionTreeClassifier 0.8116\n",
            "VotingClassifier 0.8176\n"
          ],
          "name": "stdout"
        },
        {
          "output_type": "stream",
          "text": [
            "/usr/local/lib/python3.6/dist-packages/sklearn/preprocessing/label.py:151: DeprecationWarning: The truth value of an empty array is ambiguous. Returning False, but in future this will result in an error. Use `array.size > 0` to check that an array is not empty.\n",
            "  if diff:\n"
          ],
          "name": "stderr"
        }
      ]
    },
    {
      "metadata": {
        "id": "STpnlPZmaCy6",
        "colab_type": "text"
      },
      "cell_type": "markdown",
      "source": [
        "# Evaluation"
      ]
    },
    {
      "metadata": {
        "id": "0Wyv2f0mNSJY",
        "colab_type": "text"
      },
      "cell_type": "markdown",
      "source": [
        "To evaluate three of our top models, we will focus on the confusion matrices, classification model, and accuracy scores in order to see  the models' performances with classification."
      ]
    },
    {
      "metadata": {
        "id": "ch00XHeKaJwZ",
        "colab_type": "text"
      },
      "cell_type": "markdown",
      "source": [
        "## Logistic Regression"
      ]
    },
    {
      "metadata": {
        "id": "Bng5QoHeATEs",
        "colab_type": "text"
      },
      "cell_type": "markdown",
      "source": [
        "### Confusion Matrix"
      ]
    },
    {
      "metadata": {
        "id": "Ya3M5HKEkJMJ",
        "colab_type": "text"
      },
      "cell_type": "markdown",
      "source": [
        "Below is the confusion matrix for the logistic regression model.  In counter clockwise order, we have true negatives, false negatives, true positives, and then false positives. We notice that for our Logistic Regression model we had many true negatives which means we had many correct guesses for a person not defaulting on their credit card. "
      ]
    },
    {
      "metadata": {
        "id": "UwWIWODMQfOt",
        "colab_type": "code",
        "colab": {
          "base_uri": "https://localhost:8080/",
          "height": 52
        },
        "outputId": "9edb54af-79c1-4a50-bfb0-acc6138db61e"
      },
      "cell_type": "code",
      "source": [
        "confusion_matrix(Y_test,Y_predict_logr)"
      ],
      "execution_count": 59,
      "outputs": [
        {
          "output_type": "execute_result",
          "data": {
            "text/plain": [
              "array([[5566,  288],\n",
              "       [1088,  558]])"
            ]
          },
          "metadata": {
            "tags": []
          },
          "execution_count": 59
        }
      ]
    },
    {
      "metadata": {
        "id": "I6Az_D9palQ1",
        "colab_type": "text"
      },
      "cell_type": "markdown",
      "source": [
        "### Classification Report"
      ]
    },
    {
      "metadata": {
        "id": "VVJ25WlSU3iD",
        "colab_type": "text"
      },
      "cell_type": "markdown",
      "source": [
        "A classification report was then ran in which we now see the precision and recall values."
      ]
    },
    {
      "metadata": {
        "id": "AmWEPPzhNc2p",
        "colab_type": "code",
        "colab": {
          "base_uri": "https://localhost:8080/",
          "height": 140
        },
        "outputId": "e1fc58c0-46d1-4211-9c10-0e7c860e1648"
      },
      "cell_type": "code",
      "source": [
        "print(classification_report(Y_test,Y_predict_logr))"
      ],
      "execution_count": 60,
      "outputs": [
        {
          "output_type": "stream",
          "text": [
            "             precision    recall  f1-score   support\n",
            "\n",
            "          0       0.84      0.95      0.89      5854\n",
            "          1       0.66      0.34      0.45      1646\n",
            "\n",
            "avg / total       0.80      0.82      0.79      7500\n",
            "\n"
          ],
          "name": "stdout"
        }
      ]
    },
    {
      "metadata": {
        "id": "Da-TqX_dXoVk",
        "colab_type": "text"
      },
      "cell_type": "markdown",
      "source": [
        "### ROC"
      ]
    },
    {
      "metadata": {
        "id": "Vqzefx93Fj8J",
        "colab_type": "text"
      },
      "cell_type": "markdown",
      "source": [
        "Looking at the plot for Logistic Regression's true positive rate versus false positive rate we see our classifier is mediocre. We did not see as much of a curve in the line representing the sensitivity as we would have preferred."
      ]
    },
    {
      "metadata": {
        "id": "URLlXdQpgKOH",
        "colab_type": "code",
        "colab": {
          "base_uri": "https://localhost:8080/",
          "height": 420
        },
        "outputId": "b8d24ddc-c45f-4bfe-ee1c-cad713c519d0"
      },
      "cell_type": "code",
      "source": [
        "y_scores_reg = cross_val_predict(clf_reg, X_test, Y_test, cv=3,method=\"decision_function\")\n",
        "fpr, tpr, thresholds = roc_curve(Y_test, y_scores_reg)\n",
        "def plot_roc_curve(fpr, tpr, label=None):\n",
        "  plt.plot(fpr, tpr, linewidth=2, label=label)\n",
        "  plt.plot([0, 1], [0, 1], 'k--')\n",
        "  plt.axis([0, 1, 0, 1])\n",
        "  plt.xlabel('False Positive Rate')\n",
        "  plt.ylabel('True Positive Rate')\n",
        "plot_roc_curve(fpr, tpr)\n",
        "plt.show()"
      ],
      "execution_count": 65,
      "outputs": [
        {
          "output_type": "stream",
          "text": [
            "/usr/local/lib/python3.6/dist-packages/sklearn/preprocessing/label.py:111: DataConversionWarning: A column-vector y was passed when a 1d array was expected. Please change the shape of y to (n_samples, ), for example using ravel().\n",
            "  y = column_or_1d(y, warn=True)\n"
          ],
          "name": "stderr"
        },
        {
          "output_type": "display_data",
          "data": {
            "image/png": "[encoded data removed]",
            "text/plain": [
              "<matplotlib.figure.Figure at 0x7fc2677aee10>"
            ]
          },
          "metadata": {
            "tags": []
          }
        }
      ]
    },
    {
      "metadata": {
        "id": "GsaW4QvFHY7W",
        "colab_type": "text"
      },
      "cell_type": "markdown",
      "source": [
        "From the ROC's Area Under the Curve score we see the performance is almost half way between the classifier being \"perfect\" and completely random."
      ]
    },
    {
      "metadata": {
        "id": "-bdWsaxIgdsZ",
        "colab_type": "code",
        "colab": {
          "base_uri": "https://localhost:8080/",
          "height": 35
        },
        "outputId": "2b016c5f-3f0d-4282-a885-3482f0013d76"
      },
      "cell_type": "code",
      "source": [
        "roc_auc_score(Y_test, y_scores_reg)"
      ],
      "execution_count": 66,
      "outputs": [
        {
          "output_type": "execute_result",
          "data": {
            "text/plain": [
              "0.7548521724041594"
            ]
          },
          "metadata": {
            "tags": []
          },
          "execution_count": 66
        }
      ]
    },
    {
      "metadata": {
        "id": "sUWQh03oaryt",
        "colab_type": "text"
      },
      "cell_type": "markdown",
      "source": [
        "## Bagging Classifier"
      ]
    },
    {
      "metadata": {
        "id": "o325a41aa53Y",
        "colab_type": "text"
      },
      "cell_type": "markdown",
      "source": [
        "### Confusion Matrix"
      ]
    },
    {
      "metadata": {
        "id": "_tUdoyD0AZpP",
        "colab_type": "text"
      },
      "cell_type": "markdown",
      "source": [
        "Below is the confusion matrix for the Bagging Classifier."
      ]
    },
    {
      "metadata": {
        "id": "yKMpc47-SwLk",
        "colab_type": "code",
        "colab": {
          "base_uri": "https://localhost:8080/",
          "height": 52
        },
        "outputId": "744d6984-f048-4289-ffcd-8129a7c2617b"
      },
      "cell_type": "code",
      "source": [
        "confusion_matrix(Y_test,predict_bagging)"
      ],
      "execution_count": 61,
      "outputs": [
        {
          "output_type": "execute_result",
          "data": {
            "text/plain": [
              "array([[5539,  315],\n",
              "       [1058,  588]])"
            ]
          },
          "metadata": {
            "tags": []
          },
          "execution_count": 61
        }
      ]
    },
    {
      "metadata": {
        "id": "I51YXm2Pa-74",
        "colab_type": "text"
      },
      "cell_type": "markdown",
      "source": [
        "### Classification Report"
      ]
    },
    {
      "metadata": {
        "id": "lTX78UN4Z2Gn",
        "colab_type": "text"
      },
      "cell_type": "markdown",
      "source": [
        "In order to see the performance, we looked further at the classification report."
      ]
    },
    {
      "metadata": {
        "id": "I7lP3hOgORjH",
        "colab_type": "code",
        "colab": {
          "base_uri": "https://localhost:8080/",
          "height": 140
        },
        "outputId": "2b595885-bdc1-4413-f6af-f1ef876c0add"
      },
      "cell_type": "code",
      "source": [
        "print(classification_report(Y_test,predict_bagging))"
      ],
      "execution_count": 62,
      "outputs": [
        {
          "output_type": "stream",
          "text": [
            "             precision    recall  f1-score   support\n",
            "\n",
            "          0       0.84      0.95      0.89      5854\n",
            "          1       0.65      0.36      0.46      1646\n",
            "\n",
            "avg / total       0.80      0.82      0.80      7500\n",
            "\n"
          ],
          "name": "stdout"
        }
      ]
    },
    {
      "metadata": {
        "id": "OCmwdkVKY0Rf",
        "colab_type": "text"
      },
      "cell_type": "markdown",
      "source": [
        "### ROC"
      ]
    },
    {
      "metadata": {
        "id": "9ditXb_oY6fR",
        "colab_type": "text"
      },
      "cell_type": "markdown",
      "source": [
        "The ROC of the bagging classier showed a sharp curve, but this curve was even closer to the line representing a completely random classifier than Logistic Regression."
      ]
    },
    {
      "metadata": {
        "id": "2GK7TPHtYFk1",
        "colab_type": "code",
        "colab": {
          "base_uri": "https://localhost:8080/",
          "height": 491
        },
        "outputId": "c9705143-1129-419d-88ea-dcc11698ae26"
      },
      "cell_type": "code",
      "source": [
        "y_scores_bag = cross_val_predict(bag_clf, X_test, Y_test, cv=3)\n",
        "fpr, tpr, thresholds = roc_curve(Y_test, y_scores_bag)\n",
        "def plot_roc_curve(fpr, tpr, label=None):\n",
        "  plt.plot(fpr, tpr, linewidth=2, label=label)\n",
        "  plt.plot([0, 1], [0, 1], 'k--')\n",
        "  plt.axis([0, 1, 0, 1])\n",
        "  plt.xlabel('False Positive Rate')\n",
        "  plt.ylabel('True Positive Rate')\n",
        "plot_roc_curve(fpr, tpr)\n",
        "plt.show()"
      ],
      "execution_count": 74,
      "outputs": [
        {
          "output_type": "stream",
          "text": [
            "/usr/local/lib/python3.6/dist-packages/sklearn/utils/validation.py:578: DataConversionWarning: A column-vector y was passed when a 1d array was expected. Please change the shape of y to (n_samples, ), for example using ravel().\n",
            "  y = column_or_1d(y, warn=True)\n",
            "/usr/local/lib/python3.6/dist-packages/sklearn/utils/validation.py:578: DataConversionWarning: A column-vector y was passed when a 1d array was expected. Please change the shape of y to (n_samples, ), for example using ravel().\n",
            "  y = column_or_1d(y, warn=True)\n",
            "/usr/local/lib/python3.6/dist-packages/sklearn/utils/validation.py:578: DataConversionWarning: A column-vector y was passed when a 1d array was expected. Please change the shape of y to (n_samples, ), for example using ravel().\n",
            "  y = column_or_1d(y, warn=True)\n"
          ],
          "name": "stderr"
        },
        {
          "output_type": "display_data",
          "data": {
            "image/png": "[encoded data removed]",
            "text/plain": [
              "<matplotlib.figure.Figure at 0x7fc264479320>"
            ]
          },
          "metadata": {
            "tags": []
          }
        }
      ]
    },
    {
      "metadata": {
        "id": "monH8fbRY75h",
        "colab_type": "text"
      },
      "cell_type": "markdown",
      "source": [
        "Which is understandable when seeing the ROC AUC of bagging was a lot closer to the \"random\" performance standard."
      ]
    },
    {
      "metadata": {
        "id": "gcQ_hfj8ZSPj",
        "colab_type": "code",
        "colab": {
          "base_uri": "https://localhost:8080/",
          "height": 35
        },
        "outputId": "36a825ad-d792-4fd7-bea7-d587343b6d41"
      },
      "cell_type": "code",
      "source": [
        "roc_auc_score(Y_test, y_scores_bag)"
      ],
      "execution_count": 75,
      "outputs": [
        {
          "output_type": "execute_result",
          "data": {
            "text/plain": [
              "0.6488529511760659"
            ]
          },
          "metadata": {
            "tags": []
          },
          "execution_count": 75
        }
      ]
    },
    {
      "metadata": {
        "id": "g9RZ5H-5bFOU",
        "colab_type": "text"
      },
      "cell_type": "markdown",
      "source": [
        "## Voting Classifier"
      ]
    },
    {
      "metadata": {
        "id": "REBNBP6yd3DS",
        "colab_type": "text"
      },
      "cell_type": "markdown",
      "source": [
        "Below is the confusion matrix for the Voting Classifier."
      ]
    },
    {
      "metadata": {
        "id": "ta_UB-mkbJ10",
        "colab_type": "text"
      },
      "cell_type": "markdown",
      "source": [
        "### Confusion Matrix"
      ]
    },
    {
      "metadata": {
        "id": "O2f2pVC6ZhhI",
        "colab_type": "code",
        "colab": {
          "base_uri": "https://localhost:8080/",
          "height": 52
        },
        "outputId": "e459b9f8-2f00-4c0b-e2ce-6ae6020130ed"
      },
      "cell_type": "code",
      "source": [
        "confusion_matrix(Y_test,predict_voting)"
      ],
      "execution_count": 63,
      "outputs": [
        {
          "output_type": "execute_result",
          "data": {
            "text/plain": [
              "array([[5578,  276],\n",
              "       [1094,  552]])"
            ]
          },
          "metadata": {
            "tags": []
          },
          "execution_count": 63
        }
      ]
    },
    {
      "metadata": {
        "id": "eTu1kOsSd-mI",
        "colab_type": "text"
      },
      "cell_type": "markdown",
      "source": [
        "In order to see the performance, we looked further at the classification report."
      ]
    },
    {
      "metadata": {
        "id": "ll1U7Fh5bOaK",
        "colab_type": "text"
      },
      "cell_type": "markdown",
      "source": [
        "### Classification Report"
      ]
    },
    {
      "metadata": {
        "id": "hhs_Jd9jZh3o",
        "colab_type": "code",
        "colab": {
          "base_uri": "https://localhost:8080/",
          "height": 140
        },
        "outputId": "c6b5864f-1e71-4669-a6f5-469c7e37b6d9"
      },
      "cell_type": "code",
      "source": [
        "print(classification_report(Y_test,predict_voting))"
      ],
      "execution_count": 64,
      "outputs": [
        {
          "output_type": "stream",
          "text": [
            "             precision    recall  f1-score   support\n",
            "\n",
            "          0       0.84      0.95      0.89      5854\n",
            "          1       0.67      0.34      0.45      1646\n",
            "\n",
            "avg / total       0.80      0.82      0.79      7500\n",
            "\n"
          ],
          "name": "stdout"
        }
      ]
    },
    {
      "metadata": {
        "id": "cJUKya_KZgFo",
        "colab_type": "text"
      },
      "cell_type": "markdown",
      "source": [
        "### ROC"
      ]
    },
    {
      "metadata": {
        "id": "lbZ4Esp_iHhg",
        "colab_type": "text"
      },
      "cell_type": "markdown",
      "source": [
        "Lastly the ROC plot for the voting classifier was almost the same as the plot for the bagging classifier. The curve did appear a little lower in the following plot."
      ]
    },
    {
      "metadata": {
        "id": "5WH4oyTflj4T",
        "colab_type": "code",
        "colab": {
          "base_uri": "https://localhost:8080/",
          "height": 702
        },
        "outputId": "de065c33-dd49-4629-cd2a-4798aef8aa62"
      },
      "cell_type": "code",
      "source": [
        "y_scores_voting = cross_val_predict(voting_clf, X_test, Y_test, cv=3)\n",
        "fpr, tpr, thresholds = roc_curve(Y_test, y_scores_voting)\n",
        "def plot_roc_curve(fpr, tpr, label=None):\n",
        "  plt.plot(fpr, tpr, linewidth=2, label=label)\n",
        "  plt.plot([0, 1], [0, 1], 'k--')\n",
        "  plt.axis([0, 1, 0, 1])\n",
        "  plt.xlabel('False Positive Rate')\n",
        "  plt.ylabel('True Positive Rate')\n",
        "plot_roc_curve(fpr, tpr)\n",
        "plt.show()"
      ],
      "execution_count": 77,
      "outputs": [
        {
          "output_type": "stream",
          "text": [
            "/usr/local/lib/python3.6/dist-packages/sklearn/preprocessing/label.py:95: DataConversionWarning: A column-vector y was passed when a 1d array was expected. Please change the shape of y to (n_samples, ), for example using ravel().\n",
            "  y = column_or_1d(y, warn=True)\n",
            "/usr/local/lib/python3.6/dist-packages/sklearn/preprocessing/label.py:128: DataConversionWarning: A column-vector y was passed when a 1d array was expected. Please change the shape of y to (n_samples, ), for example using ravel().\n",
            "  y = column_or_1d(y, warn=True)\n",
            "/usr/local/lib/python3.6/dist-packages/sklearn/preprocessing/label.py:151: DeprecationWarning: The truth value of an empty array is ambiguous. Returning False, but in future this will result in an error. Use `array.size > 0` to check that an array is not empty.\n",
            "  if diff:\n",
            "/usr/local/lib/python3.6/dist-packages/sklearn/preprocessing/label.py:95: DataConversionWarning: A column-vector y was passed when a 1d array was expected. Please change the shape of y to (n_samples, ), for example using ravel().\n",
            "  y = column_or_1d(y, warn=True)\n",
            "/usr/local/lib/python3.6/dist-packages/sklearn/preprocessing/label.py:128: DataConversionWarning: A column-vector y was passed when a 1d array was expected. Please change the shape of y to (n_samples, ), for example using ravel().\n",
            "  y = column_or_1d(y, warn=True)\n",
            "/usr/local/lib/python3.6/dist-packages/sklearn/preprocessing/label.py:151: DeprecationWarning: The truth value of an empty array is ambiguous. Returning False, but in future this will result in an error. Use `array.size > 0` to check that an array is not empty.\n",
            "  if diff:\n",
            "/usr/local/lib/python3.6/dist-packages/sklearn/preprocessing/label.py:95: DataConversionWarning: A column-vector y was passed when a 1d array was expected. Please change the shape of y to (n_samples, ), for example using ravel().\n",
            "  y = column_or_1d(y, warn=True)\n",
            "/usr/local/lib/python3.6/dist-packages/sklearn/preprocessing/label.py:128: DataConversionWarning: A column-vector y was passed when a 1d array was expected. Please change the shape of y to (n_samples, ), for example using ravel().\n",
            "  y = column_or_1d(y, warn=True)\n",
            "/usr/local/lib/python3.6/dist-packages/sklearn/preprocessing/label.py:151: DeprecationWarning: The truth value of an empty array is ambiguous. Returning False, but in future this will result in an error. Use `array.size > 0` to check that an array is not empty.\n",
            "  if diff:\n"
          ],
          "name": "stderr"
        },
        {
          "output_type": "display_data",
          "data": {
            "image/png": "[encoded data removed]",
            "text/plain": [
              "<matplotlib.figure.Figure at 0x7fc2676c66d8>"
            ]
          },
          "metadata": {
            "tags": []
          }
        }
      ]
    },
    {
      "metadata": {
        "id": "L_4j1UTqIWEr",
        "colab_type": "text"
      },
      "cell_type": "markdown",
      "source": [
        "Once again, the Voting Classifier's ROC AUC score is only a little lower than the Bagging Classifier's. Showing the classifier performs closer to the \"random\" side."
      ]
    },
    {
      "metadata": {
        "id": "vY7G1BQDIGxE",
        "colab_type": "code",
        "colab": {
          "base_uri": "https://localhost:8080/",
          "height": 35
        },
        "outputId": "494bb1db-a3f8-4fb4-fcab-72d258f2b029"
      },
      "cell_type": "code",
      "source": [
        "roc_auc_score(Y_test, y_scores_voting)"
      ],
      "execution_count": 78,
      "outputs": [
        {
          "output_type": "execute_result",
          "data": {
            "text/plain": [
              "0.6386281451321981"
            ]
          },
          "metadata": {
            "tags": []
          },
          "execution_count": 78
        }
      ]
    },
    {
      "metadata": {
        "id": "XEqaW9Tk_bVg",
        "colab_type": "text"
      },
      "cell_type": "markdown",
      "source": [
        "## Model Accuracies"
      ]
    },
    {
      "metadata": {
        "id": "wpV77PWLeIyl",
        "colab_type": "text"
      },
      "cell_type": "markdown",
      "source": [
        "From all of our training on different learning algorithms, below we can compare the accuracy scores from all of our used models in order to see how well we are able to determine whether a person defaults on their credit card or not."
      ]
    },
    {
      "metadata": {
        "id": "OdPE2o8yOZ2w",
        "colab_type": "code",
        "colab": {
          "base_uri": "https://localhost:8080/",
          "height": 87
        },
        "outputId": "d4fb3225-1e20-4a32-f77f-fdfc0c5ee225"
      },
      "cell_type": "code",
      "source": [
        "print(\"Accuracy of Logistic Regression Model: \",\n",
        "      float(\"{0:.4f}\".format(accuracy_score(Y_test,Y_predict_logr))))\n",
        "print(\"Accuracy of SVC Model: \",\n",
        "      float(\"{0:.4f}\".format(accuracy_score(Y_test,Y_predict_clf))))\n",
        "print(\"Accuracy of Bagging Classifier: \",\n",
        "      float(\"{0:.4f}\".format(accuracy_score(Y_test,predict_bagging))))\n",
        "print(\"Accuracy of Voting Classifier: \",\n",
        "      float(\"{0:.4f}\".format(accuracy_score(Y_test,predict_voting))))"
      ],
      "execution_count": 69,
      "outputs": [
        {
          "output_type": "stream",
          "text": [
            "Accuracy of Logistic Regression Model:  0.8165\n",
            "Accuracy of SVC Model:  0.8155\n",
            "Accuracy of Bagging Classifier:  0.8169\n",
            "Accuracy of Voting Classifier:  0.8173\n"
          ],
          "name": "stdout"
        }
      ]
    },
    {
      "metadata": {
        "id": "XWMzOKpR-5Pl",
        "colab_type": "text"
      },
      "cell_type": "markdown",
      "source": [
        "# Conclusion"
      ]
    },
    {
      "metadata": {
        "id": "37Ag0qHV-9HQ",
        "colab_type": "text"
      },
      "cell_type": "markdown",
      "source": [
        "  After exploring, manipulating and experimenting with different models on the credit card default data set we have obtained a maximum accuracy of 0.82 or 82% to determine whether a person defaults on their credit card or not. Ideally we would have been able to increase this accuracy by trying out various ways of preprocessing the data, utilizing dimensionality reduction, fine-tuning the models' hyperparameters, and applying ensemble learning. \n",
        "  \n",
        "   First we derived new features from the data set. Since this resulted in about 100 features we explored dimensionality reduction. Using the second form of reduction, LLE, we ran our initial classification models, Logistic Regression and Support Vector Classifier with original training set and the reduced set. Seeing no improvement with the set produced in LLE we continued using our original training set.\n",
        "   \n",
        "  Next we fine-tuned the better performing model, Logisitic Regression, with GridSearchCV as another attempt to improve the model. After using GridSearchCV no significant improvements were seen. \n",
        "  \n",
        "  This led us to trying ensemble learning to see if our overall accuracy could be improved by combining various models' predictions. Once again there did not seem to be a significant improvement in both the Bagging Classifier and Voting Classifier  when compared to our Logisitic Regression model.\n",
        "  \n",
        "  In the end, looking at the accuracy scores of each model was not enough information to choose which model performed best when trying to predict whether or not a person would default on their credit card. Above one can clearly see how close all these accuracy scores fall. In fact, by just seeing the accuracy scores the Voting Classifier seems to perform the best. But if looks at performance via ROC curves the Logistic Regression model seems to perform the best and the Voting Classifier does significantly worse.\n",
        "  \n",
        "  For future work, we think it would be interesting to develop more complex models, such as implementing a neural network and seeing if there could be a better performance of an 82% accuracy score since all our previous techniques did not seem to effect the accuracy.\n",
        "  "
      ]
    }
  ]
}